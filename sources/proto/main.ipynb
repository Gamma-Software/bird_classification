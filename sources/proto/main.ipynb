{
 "cells": [
  {
   "cell_type": "code",
   "execution_count": 1,
   "metadata": {},
   "outputs": [],
   "source": [
    "import sys\n",
    "import time\n",
    "sys.path.append(\"../\")\n",
    "from retrieve_image_mail import EmailParser\n",
    "import io\n",
    "import numpy as np\n",
    "\n",
    "def credential():\n",
    "        f = open(\"../../data/credential.txt\")\n",
    "        user = f.readline().strip(\"\\n\")\n",
    "        passwd = f.readline().strip(\"\\n\")\n",
    "        f.close()\n",
    "        return user, passwd\n",
    "\n",
    "\n",
    "user_name, password = credential()"
   ]
  },
  {
   "cell_type": "code",
   "execution_count": 60,
   "metadata": {},
   "outputs": [
    {
     "data": {
      "text/plain": [
       "datetime.datetime(2021, 10, 26, 14, 40, 35, 299229)"
      ]
     },
     "execution_count": 60,
     "metadata": {},
     "output_type": "execute_result"
    }
   ],
   "source": [
    "import datetime\n",
    "datetime.datetime.today()-datetime.timedelta(days=2)"
   ]
  },
  {
   "cell_type": "code",
   "execution_count": 40,
   "metadata": {},
   "outputs": [
    {
     "name": "stdout",
     "output_type": "stream",
     "text": [
      "2021-10-28 01:34:13\n"
     ]
    },
    {
     "data": {
      "text/plain": [
       "(986, [])"
      ]
     },
     "execution_count": 40,
     "metadata": {},
     "output_type": "execute_result"
    }
   ],
   "source": [
    "import email\n",
    "import imaplib\n",
    "import datetime\n",
    "from PIL import Image\n",
    "import io\n",
    "\n",
    "def get_todays_email():\n",
    "    \"\"\"\n",
    "    Get the email metadata between to dates\n",
    "    \"\"\"\n",
    "    if not user_name or not password:\n",
    "        raise \"no credential provided\"\n",
    "    total_nb_email = 0\n",
    "    todays_email = []\n",
    "    imapSession = imaplib.IMAP4_SSL('imap.gmail.com')\n",
    "    typ, accountDetails = imapSession.login(user_name, password)\n",
    "\n",
    "    if typ != 'OK':\n",
    "        raise 'Not able to sign in!'\n",
    "    \n",
    "    total_nb_email = int(imapSession.select(\"INBOX\")[1][0])\n",
    "    typ, data = imapSession.search(None, 'ALL')\n",
    "    if typ != 'OK':\n",
    "        raise 'Error searching Inbox.0'\n",
    "    \n",
    "    typ, data = imapSession.fetch(data[0].split()[-1], '(RFC822)')\n",
    "    raw_dates = data[0][1].decode('utf-8').split(\"\\n\")[7][6:-13]\n",
    "    date = datetime.datetime.strptime(raw_dates, \"%a, %d %b %Y %H:%M:%S\")\n",
    "\n",
    "    tz = int(data[0][1].decode('utf-8').split(\"\\n\")[7][-13:-9])\n",
    "    time = datetime.datetime.strptime(data[0][1].decode('utf-8').split(\"\\n\")[7][6:-13], \"%a, %d %b %Y %H:%M:%S\")\\\n",
    "    - datetime.timedelta(hours= tz)\n",
    "    print(time)\n",
    "\n",
    "    imapSession.close()\n",
    "    imapSession.logout()\n",
    "    return total_nb_email, todays_email\n",
    "\n",
    "get_todays_email()"
   ]
  }
 ],
 "metadata": {
  "interpreter": {
   "hash": "41f60d897c59ddaa101711f838c7fa40c51afbc019c760e374346c1ef05b3f16"
  },
  "kernelspec": {
   "display_name": "Python 3.8.10 64-bit ('.venv': venv)",
   "name": "python3"
  },
  "language_info": {
   "codemirror_mode": {
    "name": "ipython",
    "version": 3
   },
   "file_extension": ".py",
   "mimetype": "text/x-python",
   "name": "python",
   "nbconvert_exporter": "python",
   "pygments_lexer": "ipython3",
   "version": "3.8.10"
  },
  "orig_nbformat": 4
 },
 "nbformat": 4,
 "nbformat_minor": 2
}
