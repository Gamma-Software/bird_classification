{
 "cells": [
  {
   "cell_type": "code",
   "execution_count": 1,
   "metadata": {},
   "outputs": [],
   "source": [
    "import sys\n",
    "import time\n",
    "sys.path.append(\"../\")\n",
    "from retrieve_image_mail import EmailParser\n",
    "import io\n",
    "import numpy as np\n",
    "\n",
    "def credential():\n",
    "        f = open(\"../../data/credential.txt\")\n",
    "        user = f.readline().strip(\"\\n\")\n",
    "        passwd = f.readline().strip(\"\\n\")\n",
    "        f.close()\n",
    "        return user, passwd\n",
    "\n",
    "\n",
    "user_name, password = credential()"
   ]
  },
  {
   "cell_type": "code",
   "execution_count": 60,
   "metadata": {},
   "outputs": [
    {
     "data": {
      "text/plain": [
       "datetime.datetime(2021, 10, 26, 14, 40, 35, 299229)"
      ]
     },
     "execution_count": 60,
     "metadata": {},
     "output_type": "execute_result"
    }
   ],
   "source": [
    "import datetime\n",
    "datetime.datetime.today()-datetime.timedelta(days=2)"
   ]
  },
  {
   "cell_type": "code",
   "execution_count": 64,
   "metadata": {},
   "outputs": [
    {
     "name": "stdout",
     "output_type": "stream",
     "text": [
      "Tue, 19 Oct 2021 02:53:50\n"
     ]
    },
    {
     "data": {
      "text/plain": [
       "(960, datetime.datetime(2021, 10, 19, 2, 53, 50))"
      ]
     },
     "execution_count": 64,
     "metadata": {},
     "output_type": "execute_result"
    }
   ],
   "source": [
    "import email\n",
    "import imaplib\n",
    "from PIL import Image\n",
    "import io\n",
    "\n",
    "def get_email_metadata(from_date, to_date):\n",
    "    \"\"\"\n",
    "    Get the email metadata between to dates\n",
    "    \"\"\"\n",
    "    if not user_name or not password:\n",
    "        raise \"no credential provided\"\n",
    "    total_nb_email = 0\n",
    "    dates = \"\"\n",
    "    try:\n",
    "        imapSession = imaplib.IMAP4_SSL('imap.gmail.com')\n",
    "        typ, accountDetails = imapSession.login(user_name, password)\n",
    "\n",
    "        if typ != 'OK':\n",
    "            raise 'Not able to sign in!'\n",
    "        \n",
    "        total_nb_email = int(imapSession.select(\"INBOX\")[1][0])\n",
    "        typ, data = imapSession.search(None, 'ALL')\n",
    "        if typ != 'OK':\n",
    "            raise 'Error searching Inbox.0'\n",
    "        \n",
    "        typ, data = imapSession.fetch(data[0].split()[0], '(RFC822)')\n",
    "        raw_email = data[0][1]\n",
    "        raw_email_string = raw_email.decode('utf-8')\n",
    "        raw_dates = raw_email_string.split(\"\\n\")[7][6:-13].encode('ascii', 'ignore')\n",
    "        dates = datetime.datetime.strptime(raw_dates, \"%a, %d %b %Y %H:%M:%S\")\n",
    "    except:\n",
    "        print('Not able to download metadatas')\n",
    "    finally:\n",
    "        imapSession.close()\n",
    "        imapSession.logout()\n",
    "    return total_nb_email, dates\n",
    "\n",
    "get_email_metadata(datetime.datetime.today(), datetime.datetime.today()-datetime.timedelta(days=1))"
   ]
  }
 ],
 "metadata": {
  "interpreter": {
   "hash": "92f991b1f1117c6ce2141a517513dc8e4f9acb386b093f493c382577ecbc6186"
  },
  "kernelspec": {
   "display_name": "Python 2.7.17 64-bit ('.venv': venv)",
   "name": "python3"
  },
  "language_info": {
   "codemirror_mode": {
    "name": "ipython",
    "version": 2
   },
   "file_extension": ".py",
   "mimetype": "text/x-python",
   "name": "python",
   "nbconvert_exporter": "python",
   "pygments_lexer": "ipython2",
   "version": "2.7.17"
  },
  "orig_nbformat": 4
 },
 "nbformat": 4,
 "nbformat_minor": 2
}
