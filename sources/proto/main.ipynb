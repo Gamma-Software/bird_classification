{
 "cells": [
  {
   "cell_type": "code",
   "execution_count": 1,
   "metadata": {},
   "outputs": [],
   "source": [
    "import sys\n",
    "import time\n",
    "sys.path.append(\"../\")\n",
    "from retrieve_image_mail import EmailParser\n",
    "import io\n",
    "import numpy as np\n",
    "\n",
    "def credential():\n",
    "        f = open(\"../../data/credential.txt\")\n",
    "        user = f.readline().strip(\"\\n\")\n",
    "        passwd = f.readline().strip(\"\\n\")\n",
    "        f.close()\n",
    "        return user, passwd\n",
    "\n",
    "\n",
    "user_name, password = credential()"
   ]
  },
  {
   "cell_type": "code",
   "execution_count": 60,
   "metadata": {},
   "outputs": [
    {
     "data": {
      "text/plain": [
       "datetime.datetime(2021, 10, 26, 14, 40, 35, 299229)"
      ]
     },
     "execution_count": 60,
     "metadata": {},
     "output_type": "execute_result"
    }
   ],
   "source": [
    "import datetime\n",
    "datetime.datetime.today()-datetime.timedelta(days=2)"
   ]
  },
  {
   "cell_type": "code",
   "execution_count": 40,
   "metadata": {},
   "outputs": [
    {
     "name": "stdout",
     "output_type": "stream",
     "text": [
      "2021-10-28 01:34:13\n"
     ]
    },
    {
     "data": {
      "text/plain": [
       "(986, [])"
      ]
     },
     "execution_count": 40,
     "metadata": {},
     "output_type": "execute_result"
    }
   ],
   "source": [
    "import email\n",
    "import imaplib\n",
    "import datetime\n",
    "from PIL import Image\n",
    "import io\n",
    "\n",
    "def get_todays_email():\n",
    "    \"\"\"\n",
    "    Get the email metadata between to dates\n",
    "    \"\"\"\n",
    "    if not user_name or not password:\n",
    "        raise \"no credential provided\"\n",
    "    total_nb_email = 0\n",
    "    todays_email = []\n",
    "    imapSession = imaplib.IMAP4_SSL('imap.gmail.com')\n",
    "    typ, accountDetails = imapSession.login(user_name, password)\n",
    "\n",
    "    if typ != 'OK':\n",
    "        raise 'Not able to sign in!'\n",
    "    \n",
    "    total_nb_email = int(imapSession.select(\"INBOX\")[1][0])\n",
    "    typ, data = imapSession.search(None, 'ALL')\n",
    "    if typ != 'OK':\n",
    "        raise 'Error searching Inbox.0'\n",
    "    \n",
    "    typ, data = imapSession.fetch(data[0].split()[-1], '(RFC822)')\n",
    "    raw_dates = data[0][1].decode('utf-8').split(\"\\n\")[7][6:-13]\n",
    "    date = datetime.datetime.strptime(raw_dates, \"%a, %d %b %Y %H:%M:%S\")\n",
    "\n",
    "    tz = int(data[0][1].decode('utf-8').split(\"\\n\")[7][-13:-9])\n",
    "    time = datetime.datetime.strptime(data[0][1].decode('utf-8').split(\"\\n\")[7][6:-13], \"%a, %d %b %Y %H:%M:%S\")\\\n",
    "    - datetime.timedelta(hours= tz)\n",
    "    print(time)\n",
    "\n",
    "    imapSession.close()\n",
    "    imapSession.logout()\n",
    "    return total_nb_email, todays_email\n",
    "\n",
    "get_todays_email()"
   ]
  },
  {
   "cell_type": "code",
   "execution_count": 3,
   "metadata": {},
   "outputs": [],
   "source": [
    "import pandas as pd\n",
    "from sqlalchemy import create_engine\n",
    "from retrieve_image_mail import EmailParser\n",
    "\n",
    "email_parser = EmailParser(user_name, password)\n",
    "database_file = 'sqlite:////mnt/data/workspace/bird_classification/data/database.db'\n",
    "engine = create_engine(database_file, echo=False)\n",
    "new_data = email_parser.get_todays_email()"
   ]
  },
  {
   "cell_type": "code",
   "execution_count": 87,
   "metadata": {},
   "outputs": [
    {
     "data": {
      "text/html": [
       "<div>\n",
       "<style scoped>\n",
       "    .dataframe tbody tr th:only-of-type {\n",
       "        vertical-align: middle;\n",
       "    }\n",
       "\n",
       "    .dataframe tbody tr th {\n",
       "        vertical-align: top;\n",
       "    }\n",
       "\n",
       "    .dataframe thead th {\n",
       "        text-align: right;\n",
       "    }\n",
       "</style>\n",
       "<table border=\"1\" class=\"dataframe\">\n",
       "  <thead>\n",
       "    <tr style=\"text-align: right;\">\n",
       "      <th></th>\n",
       "      <th>dates</th>\n",
       "    </tr>\n",
       "  </thead>\n",
       "  <tbody>\n",
       "    <tr>\n",
       "      <th>0</th>\n",
       "      <td>2021-11-03 20:00:18</td>\n",
       "    </tr>\n",
       "    <tr>\n",
       "      <th>1</th>\n",
       "      <td>2021-11-03 16:25:50</td>\n",
       "    </tr>\n",
       "    <tr>\n",
       "      <th>2</th>\n",
       "      <td>2021-11-03 15:59:39</td>\n",
       "    </tr>\n",
       "    <tr>\n",
       "      <th>3</th>\n",
       "      <td>2021-11-03 15:59:21</td>\n",
       "    </tr>\n",
       "    <tr>\n",
       "      <th>4</th>\n",
       "      <td>2021-11-03 15:59:02</td>\n",
       "    </tr>\n",
       "    <tr>\n",
       "      <th>...</th>\n",
       "      <td>...</td>\n",
       "    </tr>\n",
       "    <tr>\n",
       "      <th>1271</th>\n",
       "      <td>2021-10-20 10:18:20</td>\n",
       "    </tr>\n",
       "    <tr>\n",
       "      <th>1272</th>\n",
       "      <td>2021-10-20 10:06:44</td>\n",
       "    </tr>\n",
       "    <tr>\n",
       "      <th>1273</th>\n",
       "      <td>2021-10-19 11:33:34</td>\n",
       "    </tr>\n",
       "    <tr>\n",
       "      <th>1274</th>\n",
       "      <td>2021-10-19 10:33:36</td>\n",
       "    </tr>\n",
       "    <tr>\n",
       "      <th>1275</th>\n",
       "      <td>2021-10-19 09:53:50</td>\n",
       "    </tr>\n",
       "  </tbody>\n",
       "</table>\n",
       "<p>1276 rows × 1 columns</p>\n",
       "</div>"
      ],
      "text/plain": [
       "                   dates\n",
       "0    2021-11-03 20:00:18\n",
       "1    2021-11-03 16:25:50\n",
       "2    2021-11-03 15:59:39\n",
       "3    2021-11-03 15:59:21\n",
       "4    2021-11-03 15:59:02\n",
       "...                  ...\n",
       "1271 2021-10-20 10:18:20\n",
       "1272 2021-10-20 10:06:44\n",
       "1273 2021-10-19 11:33:34\n",
       "1274 2021-10-19 10:33:36\n",
       "1275 2021-10-19 09:53:50\n",
       "\n",
       "[1276 rows x 1 columns]"
      ]
     },
     "execution_count": 87,
     "metadata": {},
     "output_type": "execute_result"
    }
   ],
   "source": [
    "conca = np.append(np.array(last_data.iloc[:, 1]), np.array(new_data.iloc[:]))\n",
    "#conca.drop(columns=\"index\", inplace=True)\n",
    "pd.DataFrame(conca).rename(columns={0: \"dates\"}).sort_values(\"dates\", ascending=False).reset_index(drop=True)"
   ]
  },
  {
   "cell_type": "code",
   "execution_count": 74,
   "metadata": {},
   "outputs": [
    {
     "data": {
      "text/html": [
       "<div>\n",
       "<style scoped>\n",
       "    .dataframe tbody tr th:only-of-type {\n",
       "        vertical-align: middle;\n",
       "    }\n",
       "\n",
       "    .dataframe tbody tr th {\n",
       "        vertical-align: top;\n",
       "    }\n",
       "\n",
       "    .dataframe thead th {\n",
       "        text-align: right;\n",
       "    }\n",
       "</style>\n",
       "<table border=\"1\" class=\"dataframe\">\n",
       "  <thead>\n",
       "    <tr style=\"text-align: right;\">\n",
       "      <th></th>\n",
       "      <th>index</th>\n",
       "      <th>dates</th>\n",
       "    </tr>\n",
       "  </thead>\n",
       "  <tbody>\n",
       "    <tr>\n",
       "      <th>0</th>\n",
       "      <td>0</td>\n",
       "      <td>2021-11-01 16:23:02</td>\n",
       "    </tr>\n",
       "    <tr>\n",
       "      <th>1</th>\n",
       "      <td>1</td>\n",
       "      <td>2021-11-01 16:21:40</td>\n",
       "    </tr>\n",
       "    <tr>\n",
       "      <th>2</th>\n",
       "      <td>2</td>\n",
       "      <td>2021-11-01 16:21:01</td>\n",
       "    </tr>\n",
       "    <tr>\n",
       "      <th>3</th>\n",
       "      <td>3</td>\n",
       "      <td>2021-11-01 15:42:20</td>\n",
       "    </tr>\n",
       "    <tr>\n",
       "      <th>4</th>\n",
       "      <td>4</td>\n",
       "      <td>2021-11-01 15:40:59</td>\n",
       "    </tr>\n",
       "    <tr>\n",
       "      <th>...</th>\n",
       "      <td>...</td>\n",
       "      <td>...</td>\n",
       "    </tr>\n",
       "    <tr>\n",
       "      <th>1146</th>\n",
       "      <td>1146</td>\n",
       "      <td>2021-10-20 10:18:20</td>\n",
       "    </tr>\n",
       "    <tr>\n",
       "      <th>1147</th>\n",
       "      <td>1147</td>\n",
       "      <td>2021-10-20 10:06:44</td>\n",
       "    </tr>\n",
       "    <tr>\n",
       "      <th>1148</th>\n",
       "      <td>1148</td>\n",
       "      <td>2021-10-19 11:33:34</td>\n",
       "    </tr>\n",
       "    <tr>\n",
       "      <th>1149</th>\n",
       "      <td>1149</td>\n",
       "      <td>2021-10-19 10:33:36</td>\n",
       "    </tr>\n",
       "    <tr>\n",
       "      <th>1150</th>\n",
       "      <td>1150</td>\n",
       "      <td>2021-10-19 09:53:50</td>\n",
       "    </tr>\n",
       "  </tbody>\n",
       "</table>\n",
       "<p>1151 rows × 2 columns</p>\n",
       "</div>"
      ],
      "text/plain": [
       "      index               dates\n",
       "0         0 2021-11-01 16:23:02\n",
       "1         1 2021-11-01 16:21:40\n",
       "2         2 2021-11-01 16:21:01\n",
       "3         3 2021-11-01 15:42:20\n",
       "4         4 2021-11-01 15:40:59\n",
       "...     ...                 ...\n",
       "1146   1146 2021-10-20 10:18:20\n",
       "1147   1147 2021-10-20 10:06:44\n",
       "1148   1148 2021-10-19 11:33:34\n",
       "1149   1149 2021-10-19 10:33:36\n",
       "1150   1150 2021-10-19 09:53:50\n",
       "\n",
       "[1151 rows x 2 columns]"
      ]
     },
     "execution_count": 74,
     "metadata": {},
     "output_type": "execute_result"
    }
   ],
   "source": [
    "last_data"
   ]
  }
 ],
 "metadata": {
  "interpreter": {
   "hash": "41f60d897c59ddaa101711f838c7fa40c51afbc019c760e374346c1ef05b3f16"
  },
  "kernelspec": {
   "display_name": "Python 3.8.10 64-bit ('.venv': venv)",
   "name": "python3"
  },
  "language_info": {
   "codemirror_mode": {
    "name": "ipython",
    "version": 3
   },
   "file_extension": ".py",
   "mimetype": "text/x-python",
   "name": "python",
   "nbconvert_exporter": "python",
   "pygments_lexer": "ipython3",
   "version": "3.8.10"
  },
  "orig_nbformat": 4
 },
 "nbformat": 4,
 "nbformat_minor": 2
}
